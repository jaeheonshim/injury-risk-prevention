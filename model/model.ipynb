{
 "cells": [
  {
   "cell_type": "markdown",
   "metadata": {},
   "source": [
    "Football Injury Datasets\n",
    "\n",
    "https://www.kaggle.com/competitions/nfl-playing-surface-analytics/data\n",
    "\n",
    "https://www.kaggle.com/datasets/smadler92/nfl-pfr\n",
    "\n",
    "https://nflreadr.nflverse.com/articles/dictionary_injuries.html\n",
    "\n",
    "https://github.com/ali-ce/datasets/blob/master/NFL/Concussion%20Injuries%202012-2014.csv\n",
    "\n",
    "https://github.com/sammieerne/NFL-Injury-Analysis"
   ]
  }
 ],
 "metadata": {
  "kernelspec": {
   "display_name": "Hackalytics25",
   "language": "python",
   "name": "python3"
  },
  "language_info": {
   "name": "python",
   "version": "3.11.11"
  }
 },
 "nbformat": 4,
 "nbformat_minor": 2
}
