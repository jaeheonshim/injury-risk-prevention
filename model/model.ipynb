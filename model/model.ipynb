{
 "cells": [
  {
   "cell_type": "markdown",
   "metadata": {},
   "source": [
    "Football Injury Datasets\n",
    "\n",
    "https://www.kaggle.com/competitions/nfl-playing-surface-analytics/overview\n",
    "\n",
    "https://www.kaggle.com/datasets/smadler92/nfl-pfr\n",
    "\n",
    "https://www.kaggle.com/datasets/rishidamarla/concussions-in-the-nfl-20122014\n",
    "\n",
    "https://www.kaggle.com/datasets/thedevastator/nfl-injury-data-2012-2017\n",
    "\n",
    "https://www.kaggle.com/datasets/thedevastator/nfl-injury-analysis-2012-2017\n",
    "\n",
    "https://www.kaggle.com/datasets/ajvazquez/nfl-concussions-from-2015-2023\n",
    "\n",
    "https://www.kaggle.com/datasets/sgonza03/nfl-major-injuries\n",
    "\n",
    "https://github.com/nntrn/espn-wiki/wiki\n",
    "\n",
    "https://nflverse.nflverse.com/index.html\n",
    "\n",
    "https://pages.github.coecis.cornell.edu/info2950-s23/project-phenomenal-squirtle/proposal.html\n",
    "\n",
    "https://github.com/ali-ce/datasets/tree/master/NFL\n",
    "\n",
    "https://sportsandsociety.osu.edu/sports-data-sets\n",
    "\n",
    "https://github.com/sammieerne/NFL-Injury-Analysis\n",
    "\n",
    "https://zenodo.org/records/4997365"
   ]
  }
 ],
 "metadata": {
  "kernelspec": {
   "display_name": "Python 3",
   "language": "python",
   "name": "python3"
  },
  "language_info": {
   "name": "python",
   "version": "3.11.11"
  }
 },
 "nbformat": 4,
 "nbformat_minor": 2
}
