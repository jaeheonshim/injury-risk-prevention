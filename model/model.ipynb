{
 "cells": [
  {
   "cell_type": "markdown",
   "metadata": {},
   "source": [
    "Football Injury Datasets\n",
    "\n",
    "https://nflreadr.nflverse.com/reference/load_injuries.html\n",
    "\n",
    "https://nflreadr.nflverse.com/reference/load_rosters.html\n",
    "\n",
    "https://nflreadr.nflverse.com/reference/load_players.html\n",
    "\n",
    "https://nflreadr.nflverse.com/reference/load_combine.html\n",
    "\n",
    "https://nflreadr.nflverse.com/articles/dictionary_injuries.html\n",
    "\n",
    "https://nflreadr.nflverse.com/articles/dictionary_rosters.html\n",
    "\n",
    "https://nflreadr.nflverse.com/articles/dictionary_combine.html"
   ]
  },
  {
   "cell_type": "code",
   "execution_count": null,
   "metadata": {},
   "outputs": [],
   "source": [
    "import nfl_data_py as nfl\n",
    "\n",
    "combined = nfl.import_combine_data([2009, 2024])\n",
    "cleancombined = nfl.clean_nfl_data(combined)\n",
    "print(\"COMBINE DATA\")\n",
    "print(\"====================================\")\n",
    "print(combined)\n",
    "\n",
    "rosters = nfl.import_seasonal_rosters([2009, 2024])\n",
    "cleanrosters = nfl.clean_nfl_data(rosters)\n",
    "print(\"ROSTER DATA\")\n",
    "print(\"====================================\")\n",
    "print(rosters)\n",
    "\n",
    "ids = nfl.import_ids()\n",
    "cleanids = nfl.clean_nfl_data(ids)\n",
    "print(\"ID DATA\")\n",
    "print(\"====================================\")\n",
    "print(ids)\n",
    "\n",
    "injuries = nfl.import_injuries([2009, 2024])\n",
    "cleaninjuries = nfl.clean_nfl_data(injuries)\n",
    "print(\"INJURY DATA\")\n",
    "print(\"====================================\")\n",
    "print(injuries)"
   ]
  },
  {
   "cell_type": "code",
   "execution_count": null,
   "metadata": {},
   "outputs": [],
   "source": [
    "import pandas as pd\n",
    "import nfl_data_py as nfl\n",
    "\n",
    "# Define the range of years from 2009 to 2024\n",
    "years = list(range(2009, 2025))\n",
    "\n",
    "# Import and clean data for the specified years\n",
    "combine_df = nfl.clean_nfl_data(nfl.import_combine_data(years=years))\n",
    "rosters_df = nfl.clean_nfl_data(nfl.import_seasonal_rosters(years=years))\n",
    "injuries_df = nfl.clean_nfl_data(nfl.import_injuries(years=years))\n",
    "\n",
    "# Standardize the name columns to improve matching\n",
    "combine_df['player_name_clean'] = combine_df['player_name'].str.lower().str.strip()\n",
    "rosters_df['player_name_clean'] = rosters_df['player_name'].str.lower().str.strip()\n",
    "injuries_df['full_name_clean'] = injuries_df['full_name'].str.lower().str.strip()\n",
    "\n",
    "# Order 2: Merge combine and injuries first using cleaned name fields,\n",
    "# then merge the result with the rosters data.\n",
    "merged_ci = pd.merge(\n",
    "    combine_df,\n",
    "    injuries_df,\n",
    "    left_on='player_name_clean',\n",
    "    right_on='full_name_clean',\n",
    "    how='outer',  # using outer join to avoid losing any data\n",
    "    suffixes=('_combine', '_injury')\n",
    ")\n",
    "\n",
    "final_df = pd.merge(\n",
    "    merged_ci,\n",
    "    rosters_df,\n",
    "    on='player_name_clean',\n",
    "    how='outer',  # again, using outer join for maximum data retention\n",
    "    suffixes=('', '_roster')\n",
    ")\n",
    "\n",
    "# Display all column names in the final merged dataframe\n",
    "print(\"All column names:\")\n",
    "print(final_df.columns.tolist())\n"
   ]
  }
 ],
 "metadata": {
  "kernelspec": {
   "display_name": "Hackalytics25",
   "language": "python",
   "name": "python3"
  },
  "language_info": {
   "codemirror_mode": {
    "name": "ipython",
    "version": 3
   },
   "file_extension": ".py",
   "mimetype": "text/x-python",
   "name": "python",
   "nbconvert_exporter": "python",
   "pygments_lexer": "ipython3",
   "version": "3.11.11"
  }
 },
 "nbformat": 4,
 "nbformat_minor": 2
}
