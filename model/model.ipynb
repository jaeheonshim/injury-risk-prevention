{
 "cells": [
  {
   "cell_type": "markdown",
   "metadata": {},
   "source": [
    "Football Injury Datasets\n",
    "\n",
    "https://www.kaggle.com/datasets/smadler92/nfl-pfr\n",
    "\n",
    "- Gives athletes, injuries, age, pos, games played, games started, weight, height\n",
    "- Can create a model to predict injury likelihood, but not type of injuries\n",
    "\n",
    "https://nflreadr.nflverse.com/articles/dictionary_injuries.html\n",
    "\n",
    "- season type, pos, name (could create script to pull everything we want)\n",
    "\n",
    "https://github.com/sammieerne/NFL-Injury-Analysis\n",
    "\n",
    "- Good research"
   ]
  }
 ],
 "metadata": {
  "kernelspec": {
   "display_name": "Hackalytics25",
   "language": "python",
   "name": "python3"
  },
  "language_info": {
   "name": "python",
   "version": "3.11.11"
  }
 },
 "nbformat": 4,
 "nbformat_minor": 2
}
